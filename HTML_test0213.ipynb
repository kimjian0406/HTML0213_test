{
  "nbformat": 4,
  "nbformat_minor": 0,
  "metadata": {
    "colab": {
      "provenance": [],
      "authorship_tag": "ABX9TyPGhuHuTfycdxSzC4l8tfPb"
    },
    "kernelspec": {
      "name": "python3",
      "display_name": "Python 3"
    },
    "language_info": {
      "name": "python"
    }
  },
  "cells": [
    {
      "cell_type": "code",
      "execution_count": null,
      "metadata": {
        "id": "I-94Wspe_8U4"
      },
      "outputs": [],
      "source": [
        "<!DOCTYPE html>\n",
        "<html lang=\"ko\">\n",
        "<head>\n",
        "    <meta charset=\"UTF-8\">\n",
        "    <meta name=\"viewport\" content=\"width=device-width, initial-scale=1.0\">\n",
        "    <title>휴게소 로봇커피머신</title>\n",
        "</head>\n",
        "<body>\n",
        "    <header>\n",
        "        <h1>휴게소 로봇커피머신</h1>\n",
        "        <p>☕ 신속하고 맛있는 커피를 제공합니다!</p>\n",
        "    </header>\n",
        "\n",
        "    <section>\n",
        "        <h2>안녕하세요!</h2>\n",
        "        <p>저는 휴게소에서 커피를 만들고 있는 로봇커피머신입니다.</p>\n",
        "        <p>전국 휴게소에서 만나볼 수 있으며, 하루 종일 열심히 일하고 있어요.</p>\n",
        "    </section>\n",
        "\n",
        "    <section>\n",
        "        <h2>제 역할은?</h2>\n",
        "        <ul>\n",
        "            <li>빠르고 신선한 커피 제공</li>\n",
        "            <li>다양한 음료 제조 (밀크티도 맛있어요!)</li>\n",
        "            <li>합리적인 가격으로 제공</li>\n",
        "        </ul>\n",
        "    </section>\n",
        "\n",
        "    <section>\n",
        "        <h2>휴게소 로봇커피머신의 특징</h2>\n",
        "        <ol>\n",
        "            <li>귀여운 디자인과 깔끔한 외관</li>\n",
        "            <li>휴게소 방문객들에게 인기 최고</li>\n",
        "            <li>커피 제조 속도가 매우 빠름</li>\n",
        "            <li>묵묵히 일하지만, 저도 가끔 쉬고 싶어요...</li>\n",
        "        </ol>\n",
        "    </section>\n",
        "\n",
        "    <footer>\n",
        "        <p>&copy; 2025 휴게소 로봇커피머신</p>\n",
        "    </footer>\n",
        "</body>\n",
        "</html>"
      ]
    }
  ]
}