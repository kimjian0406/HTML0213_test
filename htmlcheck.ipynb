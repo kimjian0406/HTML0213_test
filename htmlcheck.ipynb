{
  "nbformat": 4,
  "nbformat_minor": 0,
  "metadata": {
    "colab": {
      "provenance": [],
      "authorship_tag": "ABX9TyPqtaio1wVspL2O3VrqAQ0J"
    },
    "kernelspec": {
      "name": "python3",
      "display_name": "Python 3"
    },
    "language_info": {
      "name": "python"
    }
  },
  "cells": [
    {
      "cell_type": "code",
      "execution_count": null,
      "metadata": {
        "id": "4JbuQCWqBNvP"
      },
      "outputs": [],
      "source": [
        "<!DOCTYPE html>\n",
        "<html lang=\"ko\">\n",
        "<head>\n",
        "    <meta charset=\"UTF-8\">\n",
        "    <meta name=\"viewport\" content=\"width=device-width, initial-scale=1.0\">\n",
        "    <title>설문조사</title>\n",
        "</head>\n",
        "<body>\n",
        "    <h2>설문조사</h2>\n",
        "    <form>\n",
        "        <label>이름:</label>\n",
        "        <input type=\"text\" name=\"name\" required><br><br>\n",
        "\n",
        "        <label>성별:</label><br>\n",
        "        <input type=\"radio\" name=\"gender\" value=\"남\"> 남\n",
        "        <input type=\"radio\" name=\"gender\" value=\"여\"> 여\n",
        "        <input type=\"radio\" name=\"gender\" value=\"기타\"> 기타<br><br>\n",
        "\n",
        "        <label>좋아하는 음식 (중복 선택 가능):</label><br>\n",
        "        <input type=\"checkbox\" name=\"food\" value=\"한식\"> 한식\n",
        "        <input type=\"checkbox\" name=\"food\" value=\"중식\"> 중식\n",
        "        <input type=\"checkbox\" name=\"food\" value=\"일식\"> 일식\n",
        "        <input type=\"checkbox\" name=\"food\" value=\"양식\"> 양식\n",
        "        <input type=\"checkbox\" name=\"food\" value=\"기타\"> 기타<br><br>\n",
        "\n",
        "        <label>초능력을 갖게 된다면 어떤 초능력을 갖고 싶나요? (중복 선택 가능):</label><br>\n",
        "        <input type=\"checkbox\" name=\"superpower\" value=\"비행\"> 비행\n",
        "        <input type=\"checkbox\" name=\"superpower\" value=\"투명화\"> 투명화\n",
        "        <input type=\"checkbox\" name=\"superpower\" value=\"순간이동\"> 순간이동\n",
        "        <input type=\"checkbox\" name=\"superpower\" value=\"초인적인 힘\"> 초인적인 힘\n",
        "        <input type=\"checkbox\" name=\"superpower\" value=\"독심술\"> 독심술<br><br>\n",
        "\n",
        "        <label>선호하는 여행 스타일 (중복 선택 가능):</label><br>\n",
        "        <input type=\"checkbox\" name=\"travel\" value=\"자연 속 힐링\"> 자연 속 힐링\n",
        "        <input type=\"checkbox\" name=\"travel\" value=\"액티비티 중심\"> 액티비티 중심\n",
        "        <input type=\"checkbox\" name=\"travel\" value=\"맛집 탐방\"> 맛집 탐방\n",
        "        <input type=\"checkbox\" name=\"travel\" value=\"쇼핑 및 관광\"> 쇼핑 및 관광\n",
        "        <input type=\"checkbox\" name=\"travel\" value=\"휴양 리조트\"> 휴양 리조트<br><br>\n",
        "\n",
        "        <label>요즘 가장 관심 있는 취미 (중복 선택 가능):</label><br>\n",
        "        <input type=\"checkbox\" name=\"hobby\" value=\"독서\"> 독서\n",
        "        <input type=\"checkbox\" name=\"hobby\" value=\"운동\"> 운동\n",
        "        <input type=\"checkbox\" name=\"hobby\" value=\"게임\"> 게임\n",
        "        <input type=\"checkbox\" name=\"hobby\" value=\"요리\"> 요리\n",
        "        <input type=\"checkbox\" name=\"hobby\" value=\"음악 감상\"> 음악 감상<br><br>\n",
        "\n",
        "        <label>주말에 가장 하고 싶은 일 (중복 선택 가능):</label><br>\n",
        "        <input type=\"checkbox\" name=\"weekend\" value=\"집에서 휴식\"> 집에서 휴식\n",
        "        <input type=\"checkbox\" name=\"weekend\" value=\"여행 가기\"> 여행 가기\n",
        "        <input type=\"checkbox\" name=\"weekend\" value=\"친구 만나기\"> 친구 만나기\n",
        "        <input type=\"checkbox\" name=\"weekend\" value=\"운동 및 야외활동\"> 운동 및 야외활동\n",
        "        <input type=\"checkbox\" name=\"weekend\" value=\"문화생활 (영화, 공연 등)\"> 문화생활 (영화, 공연 등)<br><br>\n",
        "\n",
        "        <input type=\"submit\" value=\"제출\">\n",
        "    </form>\n",
        "</body>\n",
        "</html>"
      ]
    }
  ]
}